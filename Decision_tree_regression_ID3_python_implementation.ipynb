{
  "nbformat": 4,
  "nbformat_minor": 0,
  "metadata": {
    "colab": {
      "provenance": []
    },
    "kernelspec": {
      "name": "python3",
      "display_name": "Python 3"
    },
    "language_info": {
      "name": "python"
    }
  },
  "cells": [
    {
      "cell_type": "code",
      "execution_count": 3,
      "metadata": {
        "id": "J3hrHUl7de-G"
      },
      "outputs": [],
      "source": [
        "import numpy as np\n",
        "import pandas as pd\n",
        "import warnings\n",
        "warnings.filterwarnings(\"ignore\")\n",
        "\n",
        "# Load the dataset into a pandas DataFrame\n",
        "data = pd.DataFrame({\n",
        "    'size': [1500, 2000, 1800, 2400, 1200],\n",
        "    'bedrooms': [3, 4, 3, 5, 2],\n",
        "    'price': [150000, 200000, 175000, 250000, 100000]\n",
        "})\n",
        "\n",
        "# Define a function to calculate the entropy of a given set of labels\n",
        "def entropy(labels):\n",
        "    n_labels = len(labels)\n",
        "    if n_labels <= 1:\n",
        "        return 0\n",
        "    counts = np.bincount(labels)\n",
        "    probs = counts / n_labels\n",
        "    n_classes = np.count_nonzero(probs)\n",
        "    if n_classes <= 1:\n",
        "        return 0\n",
        "    ent = 0.\n",
        "    for i in probs:\n",
        "        ent -= i * np.log2(i)\n",
        "    return ent\n",
        "\n",
        "# Define a function to calculate the information gain of a given split\n",
        "def info_gain(data, split_attr, target_attr):\n",
        "    total_entropy = entropy(data[target_attr])\n",
        "    vals, counts = np.unique(data[split_attr], return_counts=True)\n",
        "    weighted_entropy = np.sum([(counts[i] / np.sum(counts)) * entropy(data.where(data[split_attr] == vals[i]).dropna()[target_attr]) for i in range(len(vals))])\n",
        "    return total_entropy - weighted_entropy\n",
        "\n",
        "# Define the ID3 algorithm to build the decision tree\n",
        "def id3(data, target_attr, attrs):\n",
        "    vals, counts = np.unique(data[target_attr], return_counts=True)\n",
        "    default_val = vals[np.argmax(counts)]\n",
        "    if len(attrs) == 0:\n",
        "        return default_val\n",
        "    elif len(np.unique(data[target_attr])) == 1:\n",
        "        return vals[0]\n",
        "    else:\n",
        "        gain = np.array([info_gain(data, attr, target_attr) for attr in attrs])\n",
        "        best_attr = attrs[np.argmax(gain)]\n",
        "        tree = {best_attr: {}}\n",
        "        remaining_attrs = [i for i in attrs if i != best_attr]\n",
        "        for val in np.unique(data[best_attr]):\n",
        "            sub_data = data.where(data[best_attr] == val).dropna()\n",
        "            subtree = id3(sub_data, target_attr, remaining_attrs)\n",
        "            tree[best_attr][val] = subtree\n",
        "        return tree\n",
        "\n",
        "# Define a function to make predictions using the decision tree\n",
        "def predict(row, tree):\n",
        "    for attr, subtree in tree.items():\n",
        "        if row[attr] in subtree:\n",
        "            subtree = subtree[row[attr]]\n",
        "            if isinstance(subtree, dict):\n",
        "                return predict(row, subtree)\n",
        "            else:\n",
        "                return subtree\n",
        "\n",
        "# Build the decision tree\n",
        "attrs = ['size', 'bedrooms']\n",
        "target_attr = 'price'\n",
        "tree = id3(data, target_attr, attrs)\n",
        "\n",
        "\n"
      ]
    },
    {
      "cell_type": "code",
      "source": [
        "# Make predictions using the decision tree\n",
        "predictions = [predict(row, tree) for _, row in data.iterrows()]\n",
        "\n",
        "# Calculate MSE, RMSE, and MAE\n",
        "mse = np.mean([(data['price'][i] - predictions[i])**2 for i in range(len(data))])\n",
        "rmse = np.sqrt(mse)\n",
        "mae = np.mean(np.abs(data['price'] - predictions))\n",
        "\n",
        "# Print the results\n",
        "print(\"Decision tree: \", tree)\n",
        "print(\"MSE: \", mse)\n",
        "print(\"RMSE: \", rmse)\n",
        "print(\"MAE: \", mae)\n"
      ],
      "metadata": {
        "colab": {
          "base_uri": "https://localhost:8080/"
        },
        "id": "drvkbNsgdk3S",
        "outputId": "48244973-98ee-448f-8a9a-2313ba40b3eb"
      },
      "execution_count": 4,
      "outputs": [
        {
          "output_type": "stream",
          "name": "stdout",
          "text": [
            "Decision tree:  {'size': {1200: 100000.0, 1500: 150000.0, 1800: 175000.0, 2000: 200000.0, 2400: 250000.0}}\n",
            "MSE:  0.0\n",
            "RMSE:  0.0\n",
            "MAE:  0.0\n"
          ]
        }
      ]
    },
    {
      "cell_type": "code",
      "source": [],
      "metadata": {
        "id": "kwvUNfwddus0"
      },
      "execution_count": null,
      "outputs": []
    }
  ]
}